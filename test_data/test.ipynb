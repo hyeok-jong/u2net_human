{
 "cells": [
  {
   "cell_type": "code",
   "execution_count": 2,
   "metadata": {},
   "outputs": [],
   "source": [
    "import os\n",
    "import numpy as np\n",
    "import cv2\n",
    "from tqdm import tqdm\n",
    "\n",
    "seg_list = os.listdir(\"test_human_images_results\")\n",
    "seg_list.sort()\n",
    "raw_list = os.listdir(\"test_human_images\")\n",
    "raw_list.sort()\n",
    "\n",
    "cnt = 0\n",
    "for seg, raw in zip(seg_list, raw_list):\n",
    "    if seg[:2] == raw[:2]:\n",
    "        cnt += 1\n",
    "if cnt != len(seg_list):\n",
    "    print(\"something wrong \")\n",
    "\n",
    "\n"
   ]
  },
  {
   "cell_type": "code",
   "execution_count": 35,
   "metadata": {},
   "outputs": [
    {
     "name": "stderr",
     "output_type": "stream",
     "text": [
      "0it [00:00, ?it/s]"
     ]
    },
    {
     "name": "stdout",
     "output_type": "stream",
     "text": [
      "(600, 600, 3) dddddddddddddd\n",
      "1.14967bbaa6.png\n"
     ]
    },
    {
     "name": "stderr",
     "output_type": "stream",
     "text": [
      "\n"
     ]
    }
   ],
   "source": [
    "for seg, raw in tqdm(zip(seg_list, raw_list)):\n",
    "    mask = cv2.imread(\"test_human_images_results/\" + seg)\n",
    "    raw_np = cv2.imread(\"test_human_images/\" + raw)\n",
    "    print(mask.shape,\"dddddddddddddd\")\n",
    "    if raw[-3:] != \"gif\":\n",
    "\n",
    "        print(seg)\n",
    "        mask_inv = cv2.bitwise_not(mask)\n",
    "\n",
    "        AND_result = cv2.bitwise_and(raw_np, mask)\n",
    "\n",
    "        alpha_channel = (mask_inv != 255)*1\n",
    "        result = cv2.add(mask_inv, AND_result)\n",
    "        \n",
    "\n",
    "        b_channel, g_channel, r_channel = cv2.split(result)\n",
    "\n",
    "        result = cv2.merge((b_channel, g_channel, r_channel, alpha_channel[...,0].astype('uint8')*255 ))\n",
    "\n",
    "        cv2.imwrite(\"apply_transparent/\" + seg, result)\n",
    "\n",
    "        break"
   ]
  },
  {
   "cell_type": "code",
   "execution_count": 33,
   "metadata": {},
   "outputs": [
    {
     "data": {
      "text/plain": [
       "array([[1, 1, 1, ..., 1, 1, 1],\n",
       "       [1, 1, 1, ..., 1, 1, 1],\n",
       "       [1, 1, 1, ..., 1, 1, 1],\n",
       "       ...,\n",
       "       [1, 1, 1, ..., 1, 1, 1],\n",
       "       [1, 1, 1, ..., 1, 1, 1],\n",
       "       [1, 1, 1, ..., 1, 1, 1]], dtype=uint8)"
      ]
     },
     "execution_count": 33,
     "metadata": {},
     "output_type": "execute_result"
    }
   ],
   "source": [
    "alpha_channel.shape\n",
    "alpha_channel.astype('uint8')[400:410,100:210,0]"
   ]
  }
 ],
 "metadata": {
  "interpreter": {
   "hash": "1c3c7152b532fd28c217869295ba0fbb2b6716303accc13f15426c445bfbdae4"
  },
  "kernelspec": {
   "display_name": "Python 3.7.9 ('hyeokjong2')",
   "language": "python",
   "name": "python3"
  },
  "language_info": {
   "codemirror_mode": {
    "name": "ipython",
    "version": 3
   },
   "file_extension": ".py",
   "mimetype": "text/x-python",
   "name": "python",
   "nbconvert_exporter": "python",
   "pygments_lexer": "ipython3",
   "version": "3.7.9"
  },
  "orig_nbformat": 4
 },
 "nbformat": 4,
 "nbformat_minor": 2
}
